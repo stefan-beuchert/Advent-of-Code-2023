{
 "cells": [
  {
   "cell_type": "markdown",
   "id": "a9cde3ac",
   "metadata": {},
   "source": [
    "--- Day 6: Wait For It ---\n",
    "The ferry quickly brings you across Island Island. After asking around, you discover that there is indeed normally a large pile of sand somewhere near here, but you don't see anything besides lots of water and the small island where the ferry has docked.\n",
    "\n",
    "As you try to figure out what to do next, you notice a poster on a wall near the ferry dock. \"Boat races! Open to the public! Grand prize is an all-expenses-paid trip to Desert Island!\" That must be where the sand comes from! Best of all, the boat races are starting in just a few minutes.\n",
    "\n",
    "You manage to sign up as a competitor in the boat races just in time. The organizer explains that it's not really a traditional race - instead, you will get a fixed amount of time during which your boat has to travel as far as it can, and you win if your boat goes the farthest.\n",
    "\n",
    "As part of signing up, you get a sheet of paper (your puzzle input) that lists the time allowed for each race and also the best distance ever recorded in that race. To guarantee you win the grand prize, you need to make sure you go farther in each race than the current record holder.\n",
    "\n",
    "The organizer brings you over to the area where the boat races are held. The boats are much smaller than you expected - they're actually toy boats, each with a big button on top. Holding down the button charges the boat, and releasing the button allows the boat to move. Boats move faster if their button was held longer, but time spent holding the button counts against the total race time. You can only hold the button at the start of the race, and boats don't move until the button is released.\n",
    "\n",
    "For example:\n",
    "\n",
    "Time:      7  15   30\n",
    "Distance:  9  40  200\n",
    "This document describes three races:\n",
    "\n",
    "The first race lasts 7 milliseconds. The record distance in this race is 9 millimeters.\n",
    "The second race lasts 15 milliseconds. The record distance in this race is 40 millimeters.\n",
    "The third race lasts 30 milliseconds. The record distance in this race is 200 millimeters.\n",
    "Your toy boat has a starting speed of zero millimeters per millisecond. For each whole millisecond you spend at the beginning of the race holding down the button, the boat's speed increases by one millimeter per millisecond.\n",
    "\n",
    "So, because the first race lasts 7 milliseconds, you only have a few options:\n",
    "\n",
    "Don't hold the button at all (that is, hold it for 0 milliseconds) at the start of the race. The boat won't move; it will have traveled 0 millimeters by the end of the race.\n",
    "Hold the button for 1 millisecond at the start of the race. Then, the boat will travel at a speed of 1 millimeter per millisecond for 6 milliseconds, reaching a total distance traveled of 6 millimeters.\n",
    "Hold the button for 2 milliseconds, giving the boat a speed of 2 millimeters per millisecond. It will then get 5 milliseconds to move, reaching a total distance of 10 millimeters.\n",
    "Hold the button for 3 milliseconds. After its remaining 4 milliseconds of travel time, the boat will have gone 12 millimeters.\n",
    "Hold the button for 4 milliseconds. After its remaining 3 milliseconds of travel time, the boat will have gone 12 millimeters.\n",
    "Hold the button for 5 milliseconds, causing the boat to travel a total of 10 millimeters.\n",
    "Hold the button for 6 milliseconds, causing the boat to travel a total of 6 millimeters.\n",
    "Hold the button for 7 milliseconds. That's the entire duration of the race. You never let go of the button. The boat can't move until you let go of the button. Please make sure you let go of the button so the boat gets to move. 0 millimeters.\n",
    "Since the current record for this race is 9 millimeters, there are actually 4 different ways you could win: you could hold the button for 2, 3, 4, or 5 milliseconds at the start of the race.\n",
    "\n",
    "In the second race, you could hold the button for at least 4 milliseconds and at most 11 milliseconds and beat the record, a total of 8 different ways to win.\n",
    "\n",
    "In the third race, you could hold the button for at least 11 milliseconds and no more than 19 milliseconds and still beat the record, a total of 9 ways you could win.\n",
    "\n",
    "To see how much margin of error you have, determine the number of ways you can beat the record in each race; in this example, if you multiply these values together, you get 288 (4 * 8 * 9).\n",
    "\n",
    "Determine the number of ways you could beat the record in each race. What do you get if you multiply these numbers together?"
   ]
  },
  {
   "cell_type": "code",
   "execution_count": 1,
   "id": "a89b1fc6",
   "metadata": {},
   "outputs": [],
   "source": [
    "# input\n",
    "puzzle_input = \"\"\"Time:        47     70     75     66\n",
    "Distance:   282   1079   1147   1062\"\"\"\n",
    "\n",
    "test_input = \"\"\"Time:      7  15   30\n",
    "Distance:  9  40  200\"\"\""
   ]
  },
  {
   "cell_type": "code",
   "execution_count": 23,
   "id": "8ba24b8d",
   "metadata": {},
   "outputs": [],
   "source": [
    "import math"
   ]
  },
  {
   "cell_type": "code",
   "execution_count": 20,
   "id": "50475fd4",
   "metadata": {},
   "outputs": [],
   "source": [
    "class Game():\n",
    "    def __init__(self, time, record_distance):\n",
    "        self.time = time\n",
    "        self.record_distance = record_distance\n",
    "        \n",
    "    def get_number_of_ways_to_beat(self):\n",
    "        \n",
    "        # get lowest amount of button press time to win\n",
    "        lowest_press_time_to_win = None\n",
    "        \n",
    "        for press_time in range(self.time + 1):\n",
    "            \n",
    "            remaining_race_time = self.time - press_time\n",
    "            distance = remaining_race_time * press_time\n",
    "            \n",
    "            if distance > self.record_distance:\n",
    "                lowest_press_time_to_win = press_time\n",
    "                break\n",
    "        \n",
    "        # get hightest amount of button press time to win\n",
    "        highest_press_time_to_win = None\n",
    "        \n",
    "        for press_time in reversed(range(self.time + 1)):\n",
    "            \n",
    "            remaining_race_time = self.time - press_time\n",
    "            distance = remaining_race_time * press_time\n",
    "            \n",
    "            if distance > self.record_distance:\n",
    "                highest_press_time_to_win = press_time\n",
    "                break\n",
    "        \n",
    "        if lowest_press_time_to_win is None or highest_press_time_to_win is None or lowest_press_time_to_win > highest_press_time_to_win:\n",
    "            print(\"wtf\")\n",
    "                \n",
    "        return highest_press_time_to_win - lowest_press_time_to_win + 1"
   ]
  },
  {
   "cell_type": "code",
   "execution_count": 25,
   "id": "493b1bd6",
   "metadata": {},
   "outputs": [
    {
     "data": {
      "text/plain": [
       "281600"
      ]
     },
     "execution_count": 25,
     "metadata": {},
     "output_type": "execute_result"
    }
   ],
   "source": [
    "def solve_puzzle(puzzle_input):\n",
    "    \n",
    "    # prepare input\n",
    "    times_and_distances = puzzle_input.split('\\n')\n",
    "    \n",
    "    list_of_times = [int(value) for value in times_and_distances[0].split(': ')[1].split(' ') if value != '']\n",
    "    list_of_distances = [int(value) for value in times_and_distances[1].split(': ')[1].split(' ') if value != '']\n",
    "    \n",
    "    list_of_games = []\n",
    "    \n",
    "    for i in range(len(list_of_times)):\n",
    "        list_of_games.append(Game(list_of_times[i], list_of_distances[i]))\n",
    "        \n",
    "    list_of_ways_to_beat_the_record = [game.get_number_of_ways_to_beat() for game in list_of_games]\n",
    "    \n",
    "    return math.prod(list_of_ways_to_beat_the_record)\n",
    "    \n",
    "solve_puzzle(puzzle_input)"
   ]
  },
  {
   "cell_type": "markdown",
   "id": "9f26c301",
   "metadata": {},
   "source": [
    "The solution: 281600 is correct :)"
   ]
  },
  {
   "cell_type": "markdown",
   "id": "47380d3d",
   "metadata": {},
   "source": [
    "--- Part Two ---\n",
    "As the race is about to start, you realize the piece of paper with race times and record distances you got earlier actually just has very bad kerning. There's really only one race - ignore the spaces between the numbers on each line.\n",
    "\n",
    "So, the example from before:\n",
    "\n",
    "Time:      7  15   30\n",
    "Distance:  9  40  200\n",
    "...now instead means this:\n",
    "\n",
    "Time:      71530\n",
    "Distance:  940200\n",
    "Now, you have to figure out how many ways there are to win this single race. In this example, the race lasts for 71530 milliseconds and the record distance you need to beat is 940200 millimeters. You could hold the button anywhere from 14 to 71516 milliseconds and beat the record, a total of 71503 ways!\n",
    "\n",
    "How many ways can you beat the record in this one much longer race?"
   ]
  },
  {
   "cell_type": "code",
   "execution_count": 30,
   "id": "fa584c25",
   "metadata": {},
   "outputs": [
    {
     "data": {
      "text/plain": [
       "33875953"
      ]
     },
     "execution_count": 30,
     "metadata": {},
     "output_type": "execute_result"
    }
   ],
   "source": [
    "def solve__second_part_of_puzzle(puzzle_input):\n",
    "    \n",
    "    # prepare input\n",
    "    times_and_distances = puzzle_input.split('\\n')\n",
    "    \n",
    "    time = int(\"\".join([value for value in times_and_distances[0].split(': ')[1].split(' ') if value != '']))\n",
    "    distance = int(\"\".join([value for value in times_and_distances[1].split(': ')[1].split(' ') if value != '']))\n",
    "    \n",
    "    game = Game(time, distance)\n",
    "    \n",
    "    return game.get_number_of_ways_to_beat()\n",
    "    \n",
    "solve__second_part_of_puzzle(puzzle_input)"
   ]
  },
  {
   "cell_type": "markdown",
   "id": "dfaab0d3",
   "metadata": {},
   "source": [
    "The solution: 33875953 is coorect :)"
   ]
  }
 ],
 "metadata": {
  "kernelspec": {
   "display_name": "Python 3",
   "language": "python",
   "name": "python3"
  },
  "language_info": {
   "codemirror_mode": {
    "name": "ipython",
    "version": 3
   },
   "file_extension": ".py",
   "mimetype": "text/x-python",
   "name": "python",
   "nbconvert_exporter": "python",
   "pygments_lexer": "ipython3",
   "version": "3.8.8"
  }
 },
 "nbformat": 4,
 "nbformat_minor": 5
}
