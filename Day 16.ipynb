{
 "cells": [
  {
   "cell_type": "markdown",
   "id": "5a040b48",
   "metadata": {},
   "source": [
    "--- Day 16: The Floor Will Be Lava ---\n",
    "With the beam of light completely focused somewhere, the reindeer leads you deeper still into the Lava Production Facility. At some point, you realize that the steel facility walls have been replaced with cave, and the doorways are just cave, and the floor is cave, and you're pretty sure this is actually just a giant cave.\n",
    "\n",
    "Finally, as you approach what must be the heart of the mountain, you see a bright light in a cavern up ahead. There, you discover that the beam of light you so carefully focused is emerging from the cavern wall closest to the facility and pouring all of its energy into a contraption on the opposite side.\n",
    "\n",
    "Upon closer inspection, the contraption appears to be a flat, two-dimensional square grid containing empty space (.), mirrors (/ and \\), and splitters (| and -).\n",
    "\n",
    "The contraption is aligned so that most of the beam bounces around the grid, but each tile on the grid converts some of the beam's light into heat to melt the rock in the cavern.\n",
    "\n",
    "You note the layout of the contraption (your puzzle input). For example:\n",
    "\n",
    ".|...\\....\n",
    "|.-.\\.....\n",
    ".....|-...\n",
    "........|.\n",
    "..........\n",
    ".........\\\n",
    "..../.\\\\..\n",
    ".-.-/..|..\n",
    ".|....-|.\\\n",
    "..//.|....\n",
    "The beam enters in the top-left corner from the left and heading to the right. Then, its behavior depends on what it encounters as it moves:\n",
    "\n",
    "If the beam encounters empty space (.), it continues in the same direction.\n",
    "If the beam encounters a mirror (/ or \\), the beam is reflected 90 degrees depending on the angle of the mirror. For instance, a rightward-moving beam that encounters a / mirror would continue upward in the mirror's column, while a rightward-moving beam that encounters a \\ mirror would continue downward from the mirror's column.\n",
    "If the beam encounters the pointy end of a splitter (| or -), the beam passes through the splitter as if the splitter were empty space. For instance, a rightward-moving beam that encounters a - splitter would continue in the same direction.\n",
    "If the beam encounters the flat side of a splitter (| or -), the beam is split into two beams going in each of the two directions the splitter's pointy ends are pointing. For instance, a rightward-moving beam that encounters a | splitter would split into two beams: one that continues upward from the splitter's column and one that continues downward from the splitter's column.\n",
    "Beams do not interact with other beams; a tile can have many beams passing through it at the same time. A tile is energized if that tile has at least one beam pass through it, reflect in it, or split in it.\n",
    "\n",
    "In the above example, here is how the beam of light bounces around the contraption:\n",
    "\n",
    ">|<<<\\....\n",
    "|v-.\\^....\n",
    ".v...|->>>\n",
    ".v...v^.|.\n",
    ".v...v^...\n",
    ".v...v^..\\\n",
    ".v../2\\\\..\n",
    "<->-/vv|..\n",
    ".|<<<2-|.\\\n",
    ".v//.|.v..\n",
    "Beams are only shown on empty tiles; arrows indicate the direction of the beams. If a tile contains beams moving in multiple directions, the number of distinct directions is shown instead. Here is the same diagram but instead only showing whether a tile is energized (#) or not (.):\n",
    "\n",
    "######....\n",
    ".#...#....\n",
    ".#...#####\n",
    ".#...##...\n",
    ".#...##...\n",
    ".#...##...\n",
    ".#..####..\n",
    "########..\n",
    ".#######..\n",
    ".#...#.#..\n",
    "Ultimately, in this example, 46 tiles become energized.\n",
    "\n",
    "The light isn't energizing enough tiles to produce lava; to debug the contraption, you need to start by analyzing the current situation. With the beam starting in the top-left heading right, how many tiles end up being energized?"
   ]
  },
  {
   "cell_type": "code",
   "execution_count": 1,
   "id": "3ccc999b",
   "metadata": {},
   "outputs": [],
   "source": [
    "import get_data\n",
    "\n",
    "import numpy as np"
   ]
  },
  {
   "cell_type": "code",
   "execution_count": 2,
   "id": "b7b52cf2",
   "metadata": {},
   "outputs": [],
   "source": [
    "# input data as np matrix \n",
    "data_matrix = get_data.file_as_matrix(day_number = 16)\n",
    "\n",
    "# reflections dictionary converting incomming directions and mirrors to the corresponding output direction\n",
    "REFLECTIONS_DICT = {\n",
    "    # from left\n",
    "    ((0,1), \"/\") : (-1,0),\n",
    "    ((0,1), \"\\\\\") : (1,0),\n",
    "    \n",
    "    # from right\n",
    "    ((0,-1), \"/\") : (1,0),\n",
    "    ((0,-1), \"\\\\\") : (-1,0),\n",
    "    \n",
    "    # from top\n",
    "    ((1,0), \"/\") : (0,-1),\n",
    "    ((1,0), \"\\\\\") : (0,1),\n",
    "    \n",
    "    # from bottom\n",
    "    ((-1,0), \"/\") : (0,1),\n",
    "    ((-1,0), \"\\\\\") : (0,-1),\n",
    "}"
   ]
  },
  {
   "cell_type": "code",
   "execution_count": 11,
   "id": "9055f9f4",
   "metadata": {},
   "outputs": [],
   "source": [
    "# helper functions\n",
    "\n",
    "def point_in_matrix(point, matrix):\n",
    "    \n",
    "    if 0 <= point[0] < matrix.shape[0] and 0 <= point[1] < matrix.shape[1]:\n",
    "        return True\n",
    "    \n",
    "    return False\n",
    "\n",
    "def get_direction(direction, mirror):\n",
    "    \n",
    "    return np.array(REFLECTIONS_DICT[(tuple(direction), mirror)])\n",
    "\n",
    "def mirror_in_line(direction, position):\n",
    "    \n",
    "    if (position == \"-\" and direction[0] == 0\n",
    "        or position == \"|\" and direction[1] == 0): \n",
    "        \n",
    "        return True\n",
    "    \n",
    "    return False\n",
    "\n",
    "def split_laser(direction):\n",
    "    if direction[0] == 0:\n",
    "        return [np.array([1,0]), np.array([-1,0])]\n",
    "    elif direction[1] == 0:\n",
    "        return [np.array([0,1]), np.array([0,-1])]\n",
    "    else:\n",
    "        print(\"Something went wrong. The direction uses multiple axis\")\n",
    "\n",
    "def follow_light(position, direction, matrix, solution_matrix, history):\n",
    "    \n",
    "    while point_in_matrix(position, matrix):\n",
    "        \n",
    "        pos = tuple(position)\n",
    "        \n",
    "        if matrix[pos] != '.':\n",
    "\n",
    "            if matrix[pos] in ['/', '\\\\']:\n",
    "\n",
    "                direction = get_direction(direction, matrix[pos])\n",
    "\n",
    "            elif matrix[pos] in ['-', '|']:\n",
    "\n",
    "                if not mirror_in_line(direction, matrix[pos]):\n",
    "                    \n",
    "                    # split directions\n",
    "                    new_directions_list = split_laser(direction)\n",
    "                    \n",
    "                    # call follow_light function with one direction\n",
    "                    # make a step in this direction (to not repeat the same loop over and over when calling the funciton)\n",
    "                    follow_light(position + new_directions_list[1], new_directions_list[1], data_matrix, solution_matrix, history)\n",
    "                    \n",
    "                    # continue this loop with other direction\n",
    "                    direction = new_directions_list[0]\n",
    "                    \n",
    "            if (tuple(direction), pos) in history: break\n",
    "            else: history.append((tuple(direction), pos))\n",
    "            \n",
    "        solution_matrix[pos] = True\n",
    "        position += direction\n",
    "        \n",
    "    return solution_matrix"
   ]
  },
  {
   "cell_type": "code",
   "execution_count": 12,
   "id": "368a6ea0",
   "metadata": {},
   "outputs": [
    {
     "data": {
      "text/plain": [
       "7996"
      ]
     },
     "execution_count": 12,
     "metadata": {},
     "output_type": "execute_result"
    }
   ],
   "source": [
    "def solve_puzzle(starting_point, starting_direction):\n",
    "\n",
    "    return np.sum(follow_light(starting_point, starting_direction, data_matrix, np.full(data_matrix.shape, False), []))\n",
    "\n",
    "solve_puzzle(np.array([0,0]), np.array([0,1]))"
   ]
  },
  {
   "cell_type": "markdown",
   "id": "3223c61b",
   "metadata": {},
   "source": [
    "7996 is correct"
   ]
  },
  {
   "cell_type": "code",
   "execution_count": 19,
   "id": "687e3e19",
   "metadata": {},
   "outputs": [
    {
     "data": {
      "text/plain": [
       "8239"
      ]
     },
     "execution_count": 19,
     "metadata": {},
     "output_type": "execute_result"
    }
   ],
   "source": [
    "def solve_second_part():\n",
    "    \n",
    "    best_score = 0\n",
    "    \n",
    "    for row_index in range(data_matrix.shape[0]):\n",
    "        \n",
    "        left = solve_puzzle(np.array([row_index,0]), np.array([0,1]))\n",
    "        right = solve_puzzle(np.array([row_index, data_matrix.shape[0] - 1]), np.array([0,-1]))\n",
    "        \n",
    "        if left > best_score:\n",
    "            best_score = left\n",
    "        if right > best_score:\n",
    "            best_score = right\n",
    "            \n",
    "    for col_index in range(data_matrix.shape[1]):\n",
    "        \n",
    "        top = solve_puzzle(np.array([0, col_index]), np.array([1,0]))\n",
    "        bottom = solve_puzzle(np.array([data_matrix.shape[1] - 1, col_index]), np.array([-1,0]))\n",
    "        \n",
    "        if top > best_score:\n",
    "            best_score = top\n",
    "        if bottom > best_score:\n",
    "            best_score = bottom\n",
    "            \n",
    "    return best_score\n",
    "\n",
    "solve_second_part()"
   ]
  },
  {
   "cell_type": "markdown",
   "id": "68ea3386",
   "metadata": {},
   "source": [
    "8239 is correct"
   ]
  }
 ],
 "metadata": {
  "kernelspec": {
   "display_name": "Python 3",
   "language": "python",
   "name": "python3"
  },
  "language_info": {
   "codemirror_mode": {
    "name": "ipython",
    "version": 3
   },
   "file_extension": ".py",
   "mimetype": "text/x-python",
   "name": "python",
   "nbconvert_exporter": "python",
   "pygments_lexer": "ipython3",
   "version": "3.8.8"
  }
 },
 "nbformat": 4,
 "nbformat_minor": 5
}
